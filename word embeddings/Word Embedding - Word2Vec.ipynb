{
 "cells": [
  {
   "cell_type": "markdown",
   "metadata": {},
   "source": [
    "# Introduction to Word Embedding\n",
    "\n",
    "Word embeddings are a way to represent words in a vector format such that similar words are occuring together in an N Dimension space.\n",
    "\n",
    "Consider the following two sentences:\n",
    "- I need a glass of <u>banana</u> juice\n",
    "- I need a glass of <u>orange</u> juice\n",
    "\n",
    "banana and orange are used in different sentences but they are syntactically same.\n",
    "\n",
    "As mentioned in original Word2Vec paper,\n",
    "\"vector(”King”) - vector(”Man”) + vector(”Woman”) results in a vector that is closest to the vector representation of the word Queen\"\n",
    "<img src=\"files/w2c.png\" alt=\"term-document matrix\" style=\"width: 80%\"/>\n"
   ]
  },
  {
   "cell_type": "markdown",
   "metadata": {},
   "source": [
    "There are two ways in which we can learn word embeddings:\n",
    "- CBOW\n",
    "- Skip Gram\n",
    "<img src=\"files/cbow_skip.png\" alt=\"term-document matrix\" style=\"width: 80%\"/>\n",
    "\n",
    "The CBOW architecture predicts the current word based on the\n",
    "context, and the Skip-gram predicts surrounding words given the current word."
   ]
  },
  {
   "cell_type": "markdown",
   "metadata": {},
   "source": [
    "# Let's load the pretrained word embeddings and explore \n",
    "You can download pretrained word embeddings from Google: https://code.google.com/archive/p/word2vec/\n"
   ]
  },
  {
   "cell_type": "code",
   "execution_count": 1,
   "metadata": {},
   "outputs": [],
   "source": [
    "from gensim.models import KeyedVectors"
   ]
  },
  {
   "cell_type": "code",
   "execution_count": 2,
   "metadata": {},
   "outputs": [
    {
     "name": "stderr",
     "output_type": "stream",
     "text": [
      "/home/mohit/anaconda3/envs/gpu/lib/python3.6/site-packages/smart_open/smart_open_lib.py:398: UserWarning: This function is deprecated, use smart_open.open instead. See the migration notes for details: https://github.com/RaRe-Technologies/smart_open/blob/master/README.rst#migrating-to-the-new-open-function\n",
      "  'See the migration notes for details: %s' % _MIGRATION_NOTES_URL\n"
     ]
    }
   ],
   "source": [
    "word_vectors = KeyedVectors.load_word2vec_format(\n",
    "  'files/GoogleNews-vectors-negative300.bin',\n",
    "  binary=True\n",
    ")"
   ]
  },
  {
   "cell_type": "code",
   "execution_count": 3,
   "metadata": {},
   "outputs": [],
   "source": [
    "def find_analogies(w1, w2, w3):\n",
    "    r = word_vectors.most_similar(positive=[w1, w3], negative=[w2])\n",
    "    print(\"%s - %s = %s - %s\" % (w1, w2, r[0][0], w3))\n",
    "\n",
    "def nearest_neighbors(w):\n",
    "    r = word_vectors.most_similar(positive=[w])\n",
    "    print(\"neighbors of: %s\" % w)\n",
    "    for word, score in r:\n",
    "        print(\"\\t%s\" % word)"
   ]
  },
  {
   "cell_type": "code",
   "execution_count": 4,
   "metadata": {},
   "outputs": [
    {
     "name": "stdout",
     "output_type": "stream",
     "text": [
      "king - man = queen - woman\n",
      "france - paris = england - london\n",
      "france - paris = italy - rome\n",
      "paris - france = lohan - italy\n",
      "france - french = england - english\n",
      "man - doctor = woman - homemaker\n"
     ]
    }
   ],
   "source": [
    "find_analogies('king', 'man', 'woman')\n",
    "find_analogies('france', 'paris', 'london')\n",
    "find_analogies('france', 'paris', 'rome')\n",
    "find_analogies('paris', 'france', 'italy')\n",
    "find_analogies('france', 'french', 'english')\n",
    "find_analogies('man', 'doctor', 'homemaker')"
   ]
  },
  {
   "cell_type": "markdown",
   "metadata": {},
   "source": [
    "# Train our own embeddings\n",
    "Till now we have explored the pre trained word embeddings but based on your application and domain, sometimes you might need to train your own embeddings.\n",
    "\n",
    "In the rest of the notebook we are going to build the embeddings using word2vec"
   ]
  },
  {
   "cell_type": "code",
   "execution_count": 5,
   "metadata": {},
   "outputs": [],
   "source": [
    "#Load required packages\n",
    "import json\n",
    "import numpy as np\n",
    "import matplotlib.pyplot as plt\n",
    "from scipy.special import expit as sigmoid\n",
    "from sklearn.utils import shuffle\n",
    "from datetime import datetime\n",
    "from scipy.spatial.distance import cosine as cos_dist\n",
    "from sklearn.metrics.pairwise import pairwise_distances\n",
    "\n",
    "\n",
    "from glob import glob\n",
    "\n",
    "import os\n",
    "import sys\n",
    "import string"
   ]
  },
  {
   "cell_type": "code",
   "execution_count": 6,
   "metadata": {},
   "outputs": [],
   "source": [
    "#Loading the text data on which we want to learn the embeddings:\n",
    "from sklearn.datasets import fetch_20newsgroups\n",
    "newsgroups_train = fetch_20newsgroups(subset='train')"
   ]
  },
  {
   "cell_type": "code",
   "execution_count": 7,
   "metadata": {},
   "outputs": [
    {
     "name": "stdout",
     "output_type": "stream",
     "text": [
      "From: lerxst@wam.umd.edu (where's my thing)\n",
      "Subject: WHAT car is this!?\n",
      "Nntp-Posting-Host: rac3.wam.umd.edu\n",
      "Organization: University of Maryland, College Park\n",
      "Lines: 15\n",
      "\n",
      " I was wondering if anyone out there could enlighten me on this car I saw\n",
      "the other day. It was a 2-door sports car, looked to be from the late 60s/\n",
      "early 70s. It was called a Bricklin. The doors were really small. In addition,\n",
      "the front bumper was separate from the rest of the body. This is \n",
      "all I know. If anyone can tellme a model name, engine specs, years\n",
      "of production, where this car is made, history, or whatever info you\n",
      "have on this funky looking car, please e-mail.\n",
      "\n",
      "Thanks,\n",
      "- IL\n",
      "   ---- brought to you by your neighborhood Lerxst ----\n",
      "\n",
      "\n",
      "\n",
      "\n",
      "\n"
     ]
    }
   ],
   "source": [
    "print(\"\\n\".join(newsgroups_train.data[:1]))"
   ]
  },
  {
   "cell_type": "code",
   "execution_count": 8,
   "metadata": {},
   "outputs": [],
   "source": [
    "all_word_counts = {}\n",
    "#Remove Punctuation\n",
    "for i in range(len(newsgroups_train.data)):\n",
    "    sentences = newsgroups_train.data[i].split('.')\n",
    "    for j in range(len(sentences)):\n",
    "        s= sentences[j].translate(str.maketrans('', '', string.punctuation)).lower().split()\n",
    "        if len(s)>1:\n",
    "            for word in s:\n",
    "                if word not in all_word_counts:\n",
    "                    all_word_counts[word] = 0\n",
    "                all_word_counts[word] += 1"
   ]
  },
  {
   "cell_type": "code",
   "execution_count": 9,
   "metadata": {},
   "outputs": [],
   "source": [
    "#all_word_counts"
   ]
  },
  {
   "cell_type": "code",
   "execution_count": 10,
   "metadata": {
    "scrolled": true
   },
   "outputs": [
    {
     "data": {
      "text/plain": [
       "133899"
      ]
     },
     "execution_count": 10,
     "metadata": {},
     "output_type": "execute_result"
    }
   ],
   "source": [
    "len(all_word_counts)"
   ]
  },
  {
   "cell_type": "code",
   "execution_count": 11,
   "metadata": {},
   "outputs": [],
   "source": [
    "v_size = 10000"
   ]
  },
  {
   "cell_type": "code",
   "execution_count": 12,
   "metadata": {},
   "outputs": [],
   "source": [
    "all_word_counts = sorted(all_word_counts.items(), key=lambda x: x[1], reverse=True)\n",
    "\n",
    "top_words = [w for w, count in all_word_counts[:v_size-1]] + ['<UNK>']\n",
    "word2idx = {w:i for i, w in enumerate(top_words)}\n",
    "idx2word = {i:w for i, w in enumerate(top_words)}\n",
    "unk = word2idx['<UNK>']"
   ]
  },
  {
   "cell_type": "code",
   "execution_count": 13,
   "metadata": {},
   "outputs": [],
   "source": [
    "sents = []\n",
    "for i in range(len(newsgroups_train.data)):\n",
    "    sentences = newsgroups_train.data[i].split('.')\n",
    "    for j in range(len(sentences)):\n",
    "        s= sentences[j].translate(str.maketrans('', '', string.punctuation)).lower().split()\n",
    "        if len(s) > 1:\n",
    "            sent = [word2idx[w] if w in word2idx else unk for w in s]\n",
    "            sents.append(sent)"
   ]
  },
  {
   "cell_type": "code",
   "execution_count": 14,
   "metadata": {},
   "outputs": [
    {
     "name": "stdout",
     "output_type": "stream",
     "text": [
      "edu\n",
      "wheres\n",
      "my\n",
      "thing\n",
      "subject\n",
      "what\n",
      "car\n",
      "is\n",
      "this\n",
      "nntppostinghost\n",
      "<UNK>\n"
     ]
    }
   ],
   "source": [
    "st = sents[1]\n",
    "for i in range(len(sents[1])):\n",
    "    print(idx2word[st[i]])"
   ]
  },
  {
   "cell_type": "markdown",
   "metadata": {},
   "source": [
    "<img src=\"files/w2c_4.png\"/>\n",
    "<img src=\"files/w2c_5.png\"/>\n",
    "\n",
    "[source](https://blog.cambridgespark.com/tutorial-build-your-own-embedding-and-use-it-in-a-neural-network-e9cde4a81296)"
   ]
  },
  {
   "cell_type": "markdown",
   "metadata": {},
   "source": [
    "# Get the context and negative sampling words"
   ]
  },
  {
   "cell_type": "code",
   "execution_count": 15,
   "metadata": {},
   "outputs": [],
   "source": [
    "def get_context(pos, sentence, window_size):\n",
    "  # input:\n",
    "  # a sentence of the form: x x x x c c c pos c c c x x x x\n",
    "  # output:\n",
    "  # the context word indices: c c c c c c\n",
    "\n",
    "    start = max(0, pos - window_size)\n",
    "    end_  = min(len(sentence), pos + window_size)\n",
    "\n",
    "    context = []\n",
    "    for ctx_pos, ctx_word_idx in enumerate(sentence[start:end_], start=start):\n",
    "        if ctx_pos != pos:\n",
    "      # don't include the input word itself as a target\n",
    "            context.append(ctx_word_idx)\n",
    "    return context"
   ]
  },
  {
   "cell_type": "code",
   "execution_count": 16,
   "metadata": {},
   "outputs": [],
   "source": [
    "def get_negative_sampling_distribution(sentences, vocab_size):\n",
    "  # Pn(w) = prob of word occuring\n",
    "  # we would like to sample the negative samples\n",
    "  # such that words that occur more often\n",
    "  # should be sampled more often\n",
    "\n",
    "    word_freq = np.zeros(vocab_size)\n",
    "    word_count = sum(len(sentence) for sentence in sentences)\n",
    "#     print(word_count)\n",
    "    for sentence in sentences:\n",
    "#         print(sentence)\n",
    "        for word in sentence:\n",
    "            word_freq[word] += 1\n",
    "    print(np.where(word_freq==0.0))\n",
    "\n",
    "  # smooth it\n",
    "    p_neg = word_freq**0.75\n",
    "#     print(np.where(p_neg==0.0))\n",
    "    \n",
    "  # normalize it\n",
    "    p_neg = p_neg / p_neg.sum()\n",
    "    \n",
    "\n",
    "    assert(np.all(p_neg > 0))\n",
    "    return p_neg"
   ]
  },
  {
   "cell_type": "markdown",
   "metadata": {},
   "source": [
    "# Model Building\n",
    "We will use stochastic gradient descent to build the model"
   ]
  },
  {
   "cell_type": "code",
   "execution_count": 17,
   "metadata": {},
   "outputs": [],
   "source": [
    "def sgd(input_, targets, label, learning_rate, W, V):\n",
    "  # W[input_] shape: D\n",
    "  # V[:,targets] shape: D x N\n",
    "  # activation shape: N\n",
    "  # print(\"input_:\", input_, \"targets:\", targets)\n",
    "    activation = W[input_].dot(V[:,targets])\n",
    "    prob = sigmoid(activation)\n",
    "\n",
    "  # gradients\n",
    "    gV = np.outer(W[input_], prob - label) # D x N\n",
    "    gW = np.sum((prob - label)*V[:,targets], axis=1) # D\n",
    "\n",
    "    V[:,targets] -= learning_rate*gV # D x N\n",
    "    W[input_] -= learning_rate*gW # D\n",
    "\n",
    "  # return cost (binary cross entropy)\n",
    "    cost = label * np.log(prob + 1e-10) + (1 - label) * np.log(1 - prob + 1e-10)\n",
    "    return cost.sum()"
   ]
  },
  {
   "cell_type": "code",
   "execution_count": 18,
   "metadata": {},
   "outputs": [
    {
     "name": "stdout",
     "output_type": "stream",
     "text": [
      "10000\n"
     ]
    }
   ],
   "source": [
    "# Setting the parameters to build the model\n",
    "window_size = 5\n",
    "learning_rate = 0.025\n",
    "final_learning_rate = 0.0001\n",
    "num_negatives = 5 # number of negative samples to draw per input word\n",
    "epochs = 100\n",
    "D = 50 # word embedding size\n",
    "v_size = len(word2idx)\n",
    "print(v_size)"
   ]
  },
  {
   "cell_type": "code",
   "execution_count": 19,
   "metadata": {},
   "outputs": [
    {
     "name": "stdout",
     "output_type": "stream",
     "text": [
      "(array([], dtype=int64),)\n",
      "total number of words in corpus: 3193919\n"
     ]
    }
   ],
   "source": [
    "  # learning rate decay\n",
    "learning_rate_delta = (learning_rate - final_learning_rate) / epochs\n",
    "\n",
    "\n",
    "  # params\n",
    "W = np.random.randn(v_size, D) # input-to-hidden\n",
    "V = np.random.randn(D, v_size) # hidden-to-output\n",
    "\n",
    "\n",
    "  # distribution for drawing negative samples\n",
    "p_neg = get_negative_sampling_distribution(sents, v_size)\n",
    "\n",
    "\n",
    "  # save the costs to plot them per iteration\n",
    "costs = []\n",
    "\n",
    "\n",
    "  # number of total words in corpus\n",
    "total_words = sum(len(sentence) for sentence in sents)\n",
    "print(\"total number of words in corpus:\", total_words)\n",
    "\n",
    "  # for subsampling each sentence\n",
    "threshold = 1e-5\n",
    "p_drop = 1 - np.sqrt(threshold / p_neg)"
   ]
  },
  {
   "cell_type": "code",
   "execution_count": 20,
   "metadata": {},
   "outputs": [
    {
     "name": "stdout",
     "output_type": "stream",
     "text": [
      "epoch complete: 0 cost: -4874005.113858711 dt: 0:01:34.040225\n",
      "epoch complete: 1 cost: -3181466.108185576 dt: 0:01:31.460299\n",
      "epoch complete: 2 cost: -2716236.099439074 dt: 0:01:32.301783\n",
      "epoch complete: 3 cost: -2503176.3089826494 dt: 0:01:32.223521\n",
      "epoch complete: 4 cost: -2361092.032055076 dt: 0:01:32.084881\n",
      "epoch complete: 5 cost: -2271202.1199086118 dt: 0:01:31.001518\n",
      "epoch complete: 6 cost: -2208505.6593335653 dt: 0:01:30.608071\n",
      "epoch complete: 7 cost: -2160062.672180178 dt: 0:01:30.499606\n",
      "epoch complete: 8 cost: -2130223.453560899 dt: 0:01:31.528746\n",
      "epoch complete: 9 cost: -2091870.4880585116 dt: 0:01:30.481441\n",
      "epoch complete: 10 cost: -2059483.40797856 dt: 0:01:29.927754\n",
      "epoch complete: 11 cost: -2047436.2614472047 dt: 0:01:30.256308\n",
      "epoch complete: 12 cost: -2030890.4076422623 dt: 0:01:29.546088\n",
      "epoch complete: 13 cost: -2005878.5552739983 dt: 0:01:28.697995\n",
      "epoch complete: 14 cost: -1992923.5929452032 dt: 0:01:29.195739\n",
      "epoch complete: 15 cost: -1993369.5584165754 dt: 0:01:29.005590\n",
      "epoch complete: 16 cost: -1977455.9943920588 dt: 0:01:29.482040\n",
      "epoch complete: 17 cost: -1966107.6916991093 dt: 0:01:29.721890\n",
      "epoch complete: 18 cost: -1964135.7355172574 dt: 0:01:29.221620\n",
      "epoch complete: 19 cost: -1949245.4889288773 dt: 0:01:28.746305\n",
      "epoch complete: 20 cost: -1931022.810163871 dt: 0:01:28.834478\n",
      "epoch complete: 21 cost: -1937982.2878143864 dt: 0:01:28.904489\n",
      "epoch complete: 22 cost: -1934945.3388603255 dt: 0:01:29.758862\n",
      "epoch complete: 23 cost: -1930020.5776321427 dt: 0:01:29.510406\n",
      "epoch complete: 24 cost: -1918643.421705498 dt: 0:01:29.394209\n",
      "epoch complete: 25 cost: -1910057.7827820617 dt: 0:01:30.659539\n",
      "epoch complete: 26 cost: -1915349.2775765285 dt: 0:01:31.571219\n",
      "epoch complete: 27 cost: -1906373.5498774787 dt: 0:01:30.353120\n",
      "epoch complete: 28 cost: -1899107.9038596253 dt: 0:01:31.649145\n",
      "epoch complete: 29 cost: -1899077.5689337198 dt: 0:01:31.299875\n",
      "epoch complete: 30 cost: -1890953.1445179943 dt: 0:01:31.292800\n",
      "epoch complete: 31 cost: -1882938.2351278998 dt: 0:01:31.771395\n",
      "epoch complete: 32 cost: -1894874.939974825 dt: 0:01:30.581646\n",
      "epoch complete: 33 cost: -1883539.181514402 dt: 0:01:31.516311\n",
      "epoch complete: 34 cost: -1883039.0534984053 dt: 0:01:35.530725\n",
      "epoch complete: 35 cost: -1870528.4551215833 dt: 0:01:30.961245\n",
      "epoch complete: 36 cost: -1870716.8403080392 dt: 0:01:29.673033\n",
      "epoch complete: 37 cost: -1870129.1033202498 dt: 0:01:29.948850\n",
      "epoch complete: 38 cost: -1856477.2476038693 dt: 0:01:29.612593\n",
      "epoch complete: 39 cost: -1863372.9641313294 dt: 0:01:29.089763\n",
      "epoch complete: 40 cost: -1849293.0946790704 dt: 0:01:29.340062\n",
      "epoch complete: 41 cost: -1861967.5865829806 dt: 0:01:29.108750\n",
      "epoch complete: 42 cost: -1864404.4113944906 dt: 0:01:29.342988\n",
      "epoch complete: 43 cost: -1844338.673557877 dt: 0:01:29.626446\n",
      "epoch complete: 44 cost: -1849149.8180242148 dt: 0:01:29.794859\n",
      "epoch complete: 45 cost: -1843589.6245871997 dt: 0:01:29.579883\n",
      "epoch complete: 46 cost: -1846177.2768309298 dt: 0:01:29.679446\n",
      "epoch complete: 47 cost: -1835136.7349539383 dt: 0:01:29.279514\n",
      "epoch complete: 48 cost: -1830221.3985066842 dt: 0:01:29.643554\n",
      "epoch complete: 49 cost: -1836452.2600309537 dt: 0:01:29.475415\n",
      "epoch complete: 50 cost: -1839285.673431154 dt: 0:01:31.660588\n",
      "epoch complete: 51 cost: -1830913.9721211144 dt: 0:01:31.223921\n",
      "epoch complete: 52 cost: -1834636.18811533 dt: 0:01:31.298883\n",
      "epoch complete: 53 cost: -1830708.8340888645 dt: 0:01:30.922356\n",
      "epoch complete: 54 cost: -1824521.3008092907 dt: 0:01:29.810598\n",
      "epoch complete: 55 cost: -1823475.4028563376 dt: 0:01:29.717747\n",
      "epoch complete: 56 cost: -1821865.689529933 dt: 0:01:29.438239\n",
      "epoch complete: 57 cost: -1837273.4349850388 dt: 0:01:30.161918\n",
      "epoch complete: 58 cost: -1829531.077486231 dt: 0:01:29.834418\n",
      "epoch complete: 59 cost: -1821036.2141257578 dt: 0:01:29.875860\n",
      "epoch complete: 60 cost: -1820800.820525929 dt: 0:01:28.961058\n",
      "epoch complete: 61 cost: -1817200.5140153072 dt: 0:01:28.948004\n",
      "epoch complete: 62 cost: -1820987.678824691 dt: 0:01:28.536633\n",
      "epoch complete: 63 cost: -1817170.070119091 dt: 0:01:29.590654\n",
      "epoch complete: 64 cost: -1818978.4868373582 dt: 0:01:30.130524\n",
      "epoch complete: 65 cost: -1803068.2735471332 dt: 0:01:30.469234\n",
      "epoch complete: 66 cost: -1824240.4900861222 dt: 0:01:29.824255\n",
      "epoch complete: 67 cost: -1819454.255446211 dt: 0:01:29.503768\n",
      "epoch complete: 68 cost: -1808573.4644819095 dt: 0:01:29.063968\n",
      "epoch complete: 69 cost: -1805950.402218756 dt: 0:01:30.109749\n",
      "epoch complete: 70 cost: -1817973.8006264954 dt: 0:01:31.419905\n",
      "epoch complete: 71 cost: -1810006.8157851202 dt: 0:01:30.997916\n",
      "epoch complete: 72 cost: -1805963.0092473861 dt: 0:01:30.376148\n",
      "epoch complete: 73 cost: -1803752.187950536 dt: 0:01:30.680129\n",
      "epoch complete: 74 cost: -1804529.6694265348 dt: 0:01:30.808319\n",
      "epoch complete: 75 cost: -1803698.6276704243 dt: 0:01:31.802148\n",
      "epoch complete: 76 cost: -1800332.9049150406 dt: 0:01:30.179850\n",
      "epoch complete: 77 cost: -1800972.5692969726 dt: 0:01:30.289678\n",
      "epoch complete: 78 cost: -1808349.927455497 dt: 0:01:29.417486\n",
      "epoch complete: 79 cost: -1804177.9331570414 dt: 0:01:29.029146\n",
      "epoch complete: 80 cost: -1807418.088701625 dt: 0:01:28.679167\n",
      "epoch complete: 81 cost: -1795435.72368558 dt: 0:01:28.955555\n",
      "epoch complete: 82 cost: -1799290.7832517358 dt: 0:01:28.912674\n",
      "epoch complete: 83 cost: -1792616.1461507839 dt: 0:01:29.395883\n",
      "epoch complete: 84 cost: -1798522.9908909106 dt: 0:01:28.924765\n",
      "epoch complete: 85 cost: -1789266.7805089506 dt: 0:01:29.444456\n",
      "epoch complete: 86 cost: -1798924.9171681912 dt: 0:01:29.202600\n",
      "epoch complete: 87 cost: -1792905.1765048918 dt: 0:01:29.071434\n",
      "epoch complete: 88 cost: -1797950.4391678404 dt: 0:01:29.392944\n",
      "epoch complete: 89 cost: -1791182.6145243235 dt: 0:01:28.891625\n",
      "epoch complete: 90 cost: -1788054.2622048047 dt: 0:01:29.049593\n",
      "epoch complete: 91 cost: -1789654.6334723711 dt: 0:01:29.538556\n",
      "epoch complete: 92 cost: -1791062.2770889734 dt: 0:01:30.545306\n",
      "epoch complete: 93 cost: -1790626.4956021344 dt: 0:01:31.302110\n",
      "epoch complete: 94 cost: -1789400.3886281454 dt: 0:01:30.729743\n",
      "epoch complete: 95 cost: -1785020.4570287257 dt: 0:01:30.168055\n",
      "epoch complete: 96 cost: -1789290.3168196448 dt: 0:01:29.721137\n",
      "epoch complete: 97 cost: -1784418.4474534602 dt: 0:01:29.971904\n",
      "epoch complete: 98 cost: -1789906.4862078298 dt: 0:01:30.441874\n",
      "epoch complete: 99 cost: -1786413.8499364916 dt: 0:01:29.526202\n"
     ]
    }
   ],
   "source": [
    "# train the model\n",
    "for epoch in range(epochs):\n",
    "    # randomly order sentences so we don't always see\n",
    "    # sentences in the same order\n",
    "    np.random.shuffle(sents)\n",
    "\n",
    "    # accumulate the cost\n",
    "    cost = 0\n",
    "    counter = 0\n",
    "    t0 = datetime.now()\n",
    "    for sentence in sents:\n",
    "      # keep only certain words based on p_neg\n",
    "        sentence = [w for w in sentence \\\n",
    "        if np.random.random() < (1 - p_drop[w])\n",
    "      ]\n",
    "        if len(sentence) < 2:\n",
    "            continue\n",
    "\n",
    "\n",
    "      # randomly order words so we don't always see\n",
    "      # samples in the same order\n",
    "        randomly_ordered_positions = np.random.choice(\n",
    "        len(sentence),\n",
    "        size=len(sentence),#np.random.randint(1, len(sentence) + 1),\n",
    "        replace=False,\n",
    "      )\n",
    "\n",
    "      \n",
    "        for pos in randomly_ordered_positions:\n",
    "        # the middle word\n",
    "            word = sentence[pos]\n",
    "\n",
    "        # get the positive context words/negative samples\n",
    "            context_words = get_context(pos, sentence, window_size)\n",
    "            neg_word = np.random.choice(v_size, p=p_neg)\n",
    "            targets = np.array(context_words)\n",
    "\n",
    "        # do one iteration of stochastic gradient descent\n",
    "            c = sgd(word, targets, 1, learning_rate, W, V)\n",
    "            cost += c\n",
    "            c = sgd(neg_word, targets, 0, learning_rate, W, V)\n",
    "            cost += c\n",
    "\n",
    "        counter += 1\n",
    "        if counter % 100 == 0:\n",
    "            sys.stdout.write(\"processed %s / %s\\r\" % (counter, len(sents)))\n",
    "            sys.stdout.flush()\n",
    "        # break\n",
    "\n",
    "\n",
    "    # print stuff so we don't stare at a blank screen\n",
    "    dt = datetime.now() - t0\n",
    "    print(\"epoch complete:\", epoch, \"cost:\", cost, \"dt:\", dt)\n",
    "\n",
    "    # save the cost\n",
    "    costs.append(cost)\n",
    "\n",
    "    # update the learning rate\n",
    "    learning_rate -= learning_rate_delta\n"
   ]
  },
  {
   "cell_type": "code",
   "execution_count": 21,
   "metadata": {},
   "outputs": [
    {
     "data": {
      "image/png": "[encoded data removed]",
      "text/plain": [
       "<Figure size 432x288 with 1 Axes>"
      ]
     },
     "metadata": {
      "needs_background": "light"
     },
     "output_type": "display_data"
    }
   ],
   "source": [
    "plt.plot(costs)\n",
    "plt.show()"
   ]
  },
  {
   "cell_type": "code",
   "execution_count": 22,
   "metadata": {},
   "outputs": [],
   "source": [
    "def analogy(pos1, neg1, pos2, neg2, word2idx, idx2word, W):\n",
    "    V, D = W.shape\n",
    "\n",
    "  # don't actually use pos2 in calculation, just print what's expected\n",
    "    print(\"testing: %s - %s = %s - %s\" % (pos1, neg1, pos2, neg2))\n",
    "    for w in (pos1, neg1, pos2, neg2):\n",
    "        if w not in word2idx:\n",
    "            print(\"Sorry, %s not in word2idx\" % w)\n",
    "            return\n",
    "\n",
    "    p1 = W[word2idx[pos1]]\n",
    "    n1 = W[word2idx[neg1]]\n",
    "    p2 = W[word2idx[pos2]]\n",
    "    n2 = W[word2idx[neg2]]\n",
    "\n",
    "    vec = p1 - n1 + n2\n",
    "\n",
    "    distances = pairwise_distances(vec.reshape(1, D), W, metric='cosine').reshape(V)\n",
    "    idx = distances.argsort()[:10]\n",
    "\n",
    "  # pick one that's not p1, n1, or n2\n",
    "    best_idx = -1\n",
    "    keep_out = [word2idx[w] for w in (pos1, neg1, neg2)]\n",
    "  # print(\"keep_out:\", keep_out)\n",
    "    for i in idx:\n",
    "        if i not in keep_out:\n",
    "            best_idx = i\n",
    "            break\n",
    "  # print(\"best_idx:\", best_idx)\n",
    "\n",
    "    print(\"got: %s - %s = %s - %s\" % (pos1, neg1, idx2word[best_idx], neg2))\n",
    "    print(\"closest 10:\")\n",
    "    for i in idx:\n",
    "        print(idx2word[i], distances[i])\n",
    "\n",
    "    print(\"dist to %s:\" % pos2, cos_dist(p2, vec))"
   ]
  },
  {
   "cell_type": "code",
   "execution_count": 31,
   "metadata": {},
   "outputs": [
    {
     "name": "stdout",
     "output_type": "stream",
     "text": [
      "testing: jesus - christian = pet - islam\n",
      "got: jesus - christian = prophets - islam\n",
      "closest 10:\n",
      "jesus 0.16295655123190744\n",
      "islam 0.19459131819666053\n",
      "prophets 0.28321452998855934\n",
      "islamic 0.29289037175281885\n",
      "prophet 0.3011665914229881\n",
      "god 0.3015252612867876\n",
      "teachings 0.3086071810950065\n",
      "contradiction 0.3212615651698495\n",
      "verse 0.3216961507585706\n",
      "humanity 0.32592826811968456\n",
      "dist to pet: 0.8473193900060618\n"
     ]
    }
   ],
   "source": [
    "We = (W + V.T) / 2\n",
    "analogy('jesus', 'christian', 'pet', 'islam', word2idx, idx2word, We)"
   ]
  },
  {
   "cell_type": "code",
   "execution_count": 24,
   "metadata": {},
   "outputs": [],
   "source": [
    "def tsne_plot():\n",
    "    \"Creates and TSNE model and plots it\"\n",
    "    labels = []\n",
    "    tokens = []\n",
    "    \n",
    "    counter = 0\n",
    "    for word in word2idx:\n",
    "        tokens.append(We[word2idx[word]])\n",
    "        labels.append(word)\n",
    "        if(counter>100):\n",
    "            break\n",
    "        counter += 1\n",
    "    \n",
    "    tsne_model = TSNE(perplexity=40, n_components=2, init='pca', n_iter=2500, random_state=23)\n",
    "    new_values = tsne_model.fit_transform(tokens)\n",
    "\n",
    "    x = []\n",
    "    y = []\n",
    "    for value in new_values:\n",
    "        x.append(value[0])\n",
    "        y.append(value[1])\n",
    "        \n",
    "    plt.figure(figsize=(16, 16)) \n",
    "    for i in range(len(x)):\n",
    "        plt.scatter(x[i],y[i])\n",
    "        plt.annotate(labels[i],\n",
    "                     xy=(x[i], y[i]),\n",
    "                     xytext=(5, 2),\n",
    "                     textcoords='offset points',\n",
    "                     ha='right',\n",
    "                     va='bottom')\n",
    "    plt.show()"
   ]
  },
  {
   "cell_type": "code",
   "execution_count": 25,
   "metadata": {},
   "outputs": [
    {
     "data": {
      "image/png": "[encoded data removed]",
      "text/plain": [
       "<Figure size 1152x1152 with 1 Axes>"
      ]
     },
     "metadata": {
      "needs_background": "light"
     },
     "output_type": "display_data"
    }
   ],
   "source": [
    "from sklearn.manifold import TSNE\n",
    "tsne_plot()"
   ]
  },
  {
   "cell_type": "code",
   "execution_count": null,
   "metadata": {},
   "outputs": [],
   "source": []
  }
 ],
 "metadata": {
  "kernelspec": {
   "display_name": "Python [conda env:gpu]",
   "language": "python",
   "name": "conda-env-gpu-py"
  },
  "language_info": {
   "codemirror_mode": {
    "name": "ipython",
    "version": 3
   },
   "file_extension": ".py",
   "mimetype": "text/x-python",
   "name": "python",
   "nbconvert_exporter": "python",
   "pygments_lexer": "ipython3",
   "version": "3.6.8"
  }
 },
 "nbformat": 4,
 "nbformat_minor": 2
}
